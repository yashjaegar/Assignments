{
 "cells": [
  {
   "cell_type": "markdown",
   "id": "177b8788",
   "metadata": {},
   "source": [
    "# Unigram:"
   ]
  },
  {
   "cell_type": "code",
   "execution_count": 1,
   "id": "d6059309",
   "metadata": {},
   "outputs": [
    {
     "name": "stdout",
     "output_type": "stream",
     "text": [
      "1. Unigrams:\n",
      "this: 2\n",
      "is: 1\n",
      "a: 1\n",
      "simple: 1\n",
      "example: 1\n",
      "text: 2\n",
      ".: 2\n",
      "will: 1\n",
      "be: 1\n",
      "used: 1\n",
      "to: 1\n",
      "demonstrate: 1\n",
      "unigrams: 1\n"
     ]
    },
    {
     "name": "stderr",
     "output_type": "stream",
     "text": [
      "[nltk_data] Downloading package punkt to\n",
      "[nltk_data]     C:\\Users\\Student\\AppData\\Roaming\\nltk_data...\n",
      "[nltk_data]   Package punkt is already up-to-date!\n"
     ]
    }
   ],
   "source": [
    "import nltk\n",
    "from nltk import word_tokenize\n",
    "from nltk.probability import FreqDist\n",
    "\n",
    "# Download necessary resources from nltk\n",
    "nltk.download('punkt')\n",
    "\n",
    "# Sample text corpus\n",
    "corpus = \"This is a simple example text. This text will be used to demonstrate unigrams.\"\n",
    "\n",
    "# Tokenize the text\n",
    "tokens = word_tokenize(corpus.lower())\n",
    "\n",
    "# Calculate unigrams\n",
    "unigrams = FreqDist(tokens)\n",
    "\n",
    "# Output Unigrams\n",
    "print(\"1. Unigrams:\")\n",
    "for word, freq in unigrams.items():\n",
    "    print(f\"{word}: {freq}\")\n"
   ]
  },
  {
   "cell_type": "markdown",
   "id": "13cbccf9",
   "metadata": {},
   "source": [
    "# Bigram:"
   ]
  },
  {
   "cell_type": "code",
   "execution_count": 2,
   "id": "8ea138a7",
   "metadata": {},
   "outputs": [
    {
     "name": "stdout",
     "output_type": "stream",
     "text": [
      "2. Bigrams:\n",
      "('this', 'is'): 1\n",
      "('is', 'a'): 1\n",
      "('a', 'simple'): 1\n",
      "('simple', 'example'): 1\n",
      "('example', 'text'): 1\n",
      "('text', '.'): 1\n",
      "('.', 'this'): 1\n",
      "('this', 'text'): 1\n",
      "('text', 'will'): 1\n",
      "('will', 'be'): 1\n",
      "('be', 'used'): 1\n",
      "('used', 'to'): 1\n",
      "('to', 'demonstrate'): 1\n",
      "('demonstrate', 'bigrams'): 1\n",
      "('bigrams', '.'): 1\n"
     ]
    }
   ],
   "source": [
    "import nltk\n",
    "from nltk import word_tokenize, bigrams\n",
    "from nltk.probability import FreqDist\n",
    "\n",
    "# Sample text corpus\n",
    "corpus = \"This is a simple example text. This text will be used to demonstrate bigrams.\"\n",
    "\n",
    "# Tokenize the text\n",
    "tokens = word_tokenize(corpus.lower())\n",
    "\n",
    "# Calculate bigrams\n",
    "bi_grams = list(bigrams(tokens))\n",
    "bigram_freq = FreqDist(bi_grams)\n",
    "\n",
    "# Output Bigrams\n",
    "print(\"2. Bigrams:\")\n",
    "for bigram, freq in bigram_freq.items():\n",
    "    print(f\"{bigram}: {freq}\")\n"
   ]
  },
  {
   "cell_type": "markdown",
   "id": "dba3808c",
   "metadata": {},
   "source": [
    "# Trigram:"
   ]
  },
  {
   "cell_type": "code",
   "execution_count": 3,
   "id": "058187c8",
   "metadata": {},
   "outputs": [
    {
     "name": "stdout",
     "output_type": "stream",
     "text": [
      "3. Trigrams:\n",
      "('this', 'is', 'a'): 1\n",
      "('is', 'a', 'simple'): 1\n",
      "('a', 'simple', 'example'): 1\n",
      "('simple', 'example', 'text'): 1\n",
      "('example', 'text', '.'): 1\n",
      "('text', '.', 'this'): 1\n",
      "('.', 'this', 'text'): 1\n",
      "('this', 'text', 'will'): 1\n",
      "('text', 'will', 'be'): 1\n",
      "('will', 'be', 'used'): 1\n",
      "('be', 'used', 'to'): 1\n",
      "('used', 'to', 'demonstrate'): 1\n",
      "('to', 'demonstrate', 'trigrams'): 1\n",
      "('demonstrate', 'trigrams', '.'): 1\n"
     ]
    }
   ],
   "source": [
    "import nltk\n",
    "from nltk import word_tokenize, trigrams\n",
    "from nltk.probability import FreqDist\n",
    "\n",
    "# Sample text corpus\n",
    "corpus = \"This is a simple example text. This text will be used to demonstrate trigrams.\"\n",
    "\n",
    "# Tokenize the text\n",
    "tokens = word_tokenize(corpus.lower())\n",
    "\n",
    "# Calculate trigrams\n",
    "tri_grams = list(trigrams(tokens))\n",
    "trigram_freq = FreqDist(tri_grams)\n",
    "\n",
    "# Output Trigrams\n",
    "print(\"3. Trigrams:\")\n",
    "for trigram, freq in trigram_freq.items():\n",
    "    print(f\"{trigram}: {freq}\")\n"
   ]
  },
  {
   "cell_type": "markdown",
   "id": "cc7e31f4",
   "metadata": {},
   "source": [
    "# Bigram Probabilities:"
   ]
  },
  {
   "cell_type": "code",
   "execution_count": 4,
   "id": "b9c42756",
   "metadata": {},
   "outputs": [
    {
     "name": "stdout",
     "output_type": "stream",
     "text": [
      "4. Bigram Probabilities:\n",
      "this:\n",
      "  is: 0.5000\n",
      "  text: 0.5000\n",
      "is:\n",
      "  a: 1.0000\n",
      "a:\n",
      "  simple: 1.0000\n",
      "simple:\n",
      "  example: 1.0000\n",
      "example:\n",
      "  text: 1.0000\n",
      "text:\n",
      "  .: 0.5000\n",
      "  will: 0.5000\n",
      ".:\n",
      "  this: 0.5000\n",
      "will:\n",
      "  be: 1.0000\n",
      "be:\n",
      "  used: 1.0000\n",
      "used:\n",
      "  to: 1.0000\n",
      "to:\n",
      "  demonstrate: 1.0000\n",
      "demonstrate:\n",
      "  bigram: 1.0000\n",
      "bigram:\n",
      "  probabilities: 1.0000\n",
      "probabilities:\n",
      "  .: 1.0000\n"
     ]
    }
   ],
   "source": [
    "import nltk\n",
    "from nltk import word_tokenize, bigrams\n",
    "from nltk.probability import ConditionalFreqDist, FreqDist\n",
    "\n",
    "# Sample text corpus\n",
    "corpus = \"This is a simple example text. This text will be used to demonstrate bigram probabilities.\"\n",
    "\n",
    "# Tokenize the text\n",
    "tokens = word_tokenize(corpus.lower())\n",
    "\n",
    "# Calculate bigram frequencies\n",
    "cfd = ConditionalFreqDist(bigrams(tokens))\n",
    "unigrams = FreqDist(tokens)\n",
    "bigram_prob = {w1: {w2: cfd[w1][w2] / unigrams[w1] for w2 in cfd[w1]} for w1 in cfd}\n",
    "\n",
    "# Output Bigram Probabilities\n",
    "print(\"4. Bigram Probabilities:\")\n",
    "for word1, next_words in bigram_prob.items():\n",
    "    print(f\"{word1}:\")\n",
    "    for word2, prob in next_words.items():\n",
    "        print(f\"  {word2}: {prob:.4f}\")\n"
   ]
  },
  {
   "cell_type": "markdown",
   "id": "d24b3185",
   "metadata": {},
   "source": [
    "# Next Word Prediction:"
   ]
  },
  {
   "cell_type": "code",
   "execution_count": 5,
   "id": "ce354400",
   "metadata": {},
   "outputs": [
    {
     "name": "stdout",
     "output_type": "stream",
     "text": [
      "5. Next word predictions for 'text':\n",
      "['.', 'will']\n"
     ]
    }
   ],
   "source": [
    "import nltk\n",
    "from nltk import word_tokenize, bigrams\n",
    "from nltk.probability import ConditionalFreqDist\n",
    "\n",
    "# Sample text corpus\n",
    "corpus = \"This is a simple example text. This text will be used to demonstrate next word prediction.\"\n",
    "\n",
    "# Tokenize the text\n",
    "tokens = word_tokenize(corpus.lower())\n",
    "\n",
    "# Calculate bigram frequencies\n",
    "cfd = ConditionalFreqDist(bigrams(tokens))\n",
    "unigrams = FreqDist(tokens)\n",
    "bigram_prob = {w1: {w2: cfd[w1][w2] / unigrams[w1] for w2 in cfd[w1]} for w1 in cfd}\n",
    "\n",
    "# Next word prediction function\n",
    "def predict_next_word(word):\n",
    "    return list(bigram_prob.get(word, {}).keys())\n",
    "\n",
    "# Test the next word prediction\n",
    "test_word = \"text\"\n",
    "print(f\"5. Next word predictions for '{test_word}':\")\n",
    "predictions = predict_next_word(test_word)\n",
    "print(predictions)\n"
   ]
  }
 ],
 "metadata": {
  "kernelspec": {
   "display_name": "Python 3 (ipykernel)",
   "language": "python",
   "name": "python3"
  },
  "language_info": {
   "codemirror_mode": {
    "name": "ipython",
    "version": 3
   },
   "file_extension": ".py",
   "mimetype": "text/x-python",
   "name": "python",
   "nbconvert_exporter": "python",
   "pygments_lexer": "ipython3",
   "version": "3.11.5"
  }
 },
 "nbformat": 4,
 "nbformat_minor": 5
}
